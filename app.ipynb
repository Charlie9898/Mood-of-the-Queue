{
 "cells": [
  {
   "cell_type": "code",
   "execution_count": 3,
   "id": "7b147838",
   "metadata": {},
   "outputs": [],
   "source": [
    "import streamlit as st\n",
    "import pandas as pd\n",
    "import datetime\n",
    "from google.oauth2.service_account import Credentials\n",
    "import gspread"
   ]
  },
  {
   "cell_type": "code",
   "execution_count": 5,
   "id": "1599e683",
   "metadata": {},
   "outputs": [],
   "source": [
    "# Define the scope and authenticate\n",
    "scope = [\"https://www.googleapis.com/auth/spreadsheets\", \"https://www.googleapis.com/auth/drive\"]\n",
    "creds = Credentials.from_service_account_file(\"mood-461203-302085ab3340.json\", scopes=scope)\n",
    "\n",
    "# Authorize and open the sheet\n",
    "client = gspread.authorize(creds)\n",
    "sheet = client.open(\"MoodLog\").sheet1"
   ]
  }
 ],
 "metadata": {
  "kernelspec": {
   "display_name": ".venv",
   "language": "python",
   "name": "python3"
  },
  "language_info": {
   "codemirror_mode": {
    "name": "ipython",
    "version": 3
   },
   "file_extension": ".py",
   "mimetype": "text/x-python",
   "name": "python",
   "nbconvert_exporter": "python",
   "pygments_lexer": "ipython3",
   "version": "3.11.9"
  }
 },
 "nbformat": 4,
 "nbformat_minor": 5
}
